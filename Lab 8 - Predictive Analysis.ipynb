{
 "cells": [
  {
   "cell_type": "markdown",
   "metadata": {},
   "source": [
    "<p style=\"text-align:center\">\n",
    "    <a href=\"https://skills.network/?utm_medium=Exinfluencer&utm_source=Exinfluencer&utm_content=000026UJ&utm_term=10006555&utm_id=NA-SkillsNetwork-Channel-SkillsNetworkCoursesIBMDS0321ENSkillsNetwork26802033-2022-01-01\" target=\"_blank\">\n",
    "    <img src=\"https://cf-courses-data.s3.us.cloud-object-storage.appdomain.cloud/assets/logos/SN_web_lightmode.png\" width=\"200\" alt=\"Skills Network Logo\"  />\n",
    "    </a>\n",
    "</p>\n"
   ]
  },
  {
   "cell_type": "markdown",
   "metadata": {},
   "source": [
    "# **Space X  Falcon 9 First Stage Landing Prediction**\n"
   ]
  },
  {
   "cell_type": "markdown",
   "metadata": {},
   "source": [
    "## Assignment:  Machine Learning Prediction\n"
   ]
  },
  {
   "cell_type": "markdown",
   "metadata": {},
   "source": [
    "Estimated time needed: **60** minutes\n"
   ]
  },
  {
   "cell_type": "markdown",
   "metadata": {},
   "source": [
    "Space X advertises Falcon 9 rocket launches on its website with a cost of 62 million dollars; other providers cost upward of 165 million dollars each, much of the savings is because Space X can reuse the first stage. Therefore if we can determine if the first stage will land, we can determine the cost of a launch. This information can be used if an alternate company wants to bid against space X for a rocket launch.   In this lab, you will create a machine learning pipeline  to predict if the first stage will land given the data from the preceding labs.\n"
   ]
  },
  {
   "cell_type": "markdown",
   "metadata": {},
   "source": [
    "![](https://cf-courses-data.s3.us.cloud-object-storage.appdomain.cloud/IBMDeveloperSkillsNetwork-DS0701EN-SkillsNetwork/api/Images/landing\\_1.gif)\n"
   ]
  },
  {
   "cell_type": "markdown",
   "metadata": {},
   "source": [
    "Several examples of an unsuccessful landing are shown here:\n"
   ]
  },
  {
   "cell_type": "markdown",
   "metadata": {},
   "source": [
    "![](https://cf-courses-data.s3.us.cloud-object-storage.appdomain.cloud/IBMDeveloperSkillsNetwork-DS0701EN-SkillsNetwork/api/Images/crash.gif)\n"
   ]
  },
  {
   "cell_type": "markdown",
   "metadata": {},
   "source": [
    "Most unsuccessful landings are planed. Space X; performs a controlled landing in the oceans.\n"
   ]
  },
  {
   "cell_type": "markdown",
   "metadata": {},
   "source": [
    "## Objectives\n"
   ]
  },
  {
   "cell_type": "markdown",
   "metadata": {},
   "source": [
    "Perform exploratory  Data Analysis and determine Training Labels\n",
    "\n",
    "*   create a column for the class\n",
    "*   Standardize the data\n",
    "*   Split into training data and test data\n",
    "\n",
    "\\-Find best Hyperparameter for SVM, Classification Trees and Logistic Regression\n",
    "\n",
    "*   Find the method performs best using test data\n"
   ]
  },
  {
   "cell_type": "markdown",
   "metadata": {},
   "source": []
  },
  {
   "cell_type": "markdown",
   "metadata": {},
   "source": [
    "***\n"
   ]
  },
  {
   "cell_type": "markdown",
   "metadata": {},
   "source": [
    "## Import Libraries and Define Auxiliary Functions\n"
   ]
  },
  {
   "cell_type": "markdown",
   "metadata": {},
   "source": [
    "We will import the following libraries for the lab\n"
   ]
  },
  {
   "cell_type": "code",
   "execution_count": 1,
   "metadata": {},
   "outputs": [],
   "source": [
    "# Pandas is a software library written for the Python programming language for data manipulation and analysis.\n",
    "import pandas as pd\n",
    "# NumPy is a library for the Python programming language, adding support for large, multi-dimensional arrays and matrices, along with a large collection of high-level mathematical functions to operate on these arrays\n",
    "import numpy as np\n",
    "# Matplotlib is a plotting library for python and pyplot gives us a MatLab like plotting framework. We will use this in our plotter function to plot data.\n",
    "import matplotlib.pyplot as plt\n",
    "#Seaborn is a Python data visualization library based on matplotlib. It provides a high-level interface for drawing attractive and informative statistical graphics\n",
    "import seaborn as sns\n",
    "# Preprocessing allows us to standarsize our data\n",
    "from sklearn import preprocessing\n",
    "# Allows us to split our data into training and testing data\n",
    "from sklearn.model_selection import train_test_split\n",
    "# Allows us to test parameters of classification algorithms and find the best one\n",
    "from sklearn.model_selection import GridSearchCV\n",
    "# Logistic Regression classification algorithm\n",
    "from sklearn.linear_model import LogisticRegression\n",
    "# Support Vector Machine classification algorithm\n",
    "from sklearn.svm import SVC\n",
    "# Decision Tree classification algorithm\n",
    "from sklearn.tree import DecisionTreeClassifier\n",
    "# K Nearest Neighbors classification algorithm\n",
    "from sklearn.neighbors import KNeighborsClassifier"
   ]
  },
  {
   "cell_type": "markdown",
   "metadata": {},
   "source": [
    "This function is to plot the confusion matrix.\n"
   ]
  },
  {
   "cell_type": "code",
   "execution_count": 2,
   "metadata": {},
   "outputs": [],
   "source": [
    "def plot_confusion_matrix(y,y_predict):\n",
    "    \"this function plots the confusion matrix\"\n",
    "    from sklearn.metrics import confusion_matrix\n",
    "\n",
    "    cm = confusion_matrix(y, y_predict)\n",
    "    ax= plt.subplot()\n",
    "    sns.heatmap(cm, annot=True, ax = ax); #annot=True to annotate cells\n",
    "    ax.set_xlabel('Predicted labels')\n",
    "    ax.set_ylabel('True labels')\n",
    "    ax.set_title('Confusion Matrix'); \n",
    "    ax.xaxis.set_ticklabels(['did not land', 'land']); ax.yaxis.set_ticklabels(['did not land', 'landed'])"
   ]
  },
  {
   "cell_type": "markdown",
   "metadata": {},
   "source": [
    "## Load the dataframe\n"
   ]
  },
  {
   "cell_type": "markdown",
   "metadata": {},
   "source": [
    "Load the data\n"
   ]
  },
  {
   "cell_type": "code",
   "execution_count": 3,
   "metadata": {},
   "outputs": [
    {
     "data": {
      "text/html": [
       "<div>\n",
       "<style scoped>\n",
       "    .dataframe tbody tr th:only-of-type {\n",
       "        vertical-align: middle;\n",
       "    }\n",
       "\n",
       "    .dataframe tbody tr th {\n",
       "        vertical-align: top;\n",
       "    }\n",
       "\n",
       "    .dataframe thead th {\n",
       "        text-align: right;\n",
       "    }\n",
       "</style>\n",
       "<table border=\"1\" class=\"dataframe\">\n",
       "  <thead>\n",
       "    <tr style=\"text-align: right;\">\n",
       "      <th></th>\n",
       "      <th>FlightNumber</th>\n",
       "      <th>Date</th>\n",
       "      <th>BoosterVersion</th>\n",
       "      <th>PayloadMass</th>\n",
       "      <th>Orbit</th>\n",
       "      <th>LaunchSite</th>\n",
       "      <th>Outcome</th>\n",
       "      <th>Flights</th>\n",
       "      <th>GridFins</th>\n",
       "      <th>Reused</th>\n",
       "      <th>Legs</th>\n",
       "      <th>LandingPad</th>\n",
       "      <th>Block</th>\n",
       "      <th>ReusedCount</th>\n",
       "      <th>Serial</th>\n",
       "      <th>Longitude</th>\n",
       "      <th>Latitude</th>\n",
       "      <th>Class</th>\n",
       "    </tr>\n",
       "  </thead>\n",
       "  <tbody>\n",
       "    <tr>\n",
       "      <th>0</th>\n",
       "      <td>1</td>\n",
       "      <td>2010-06-04</td>\n",
       "      <td>Falcon 9</td>\n",
       "      <td>6104.959412</td>\n",
       "      <td>LEO</td>\n",
       "      <td>CCAFS SLC 40</td>\n",
       "      <td>None None</td>\n",
       "      <td>1</td>\n",
       "      <td>False</td>\n",
       "      <td>False</td>\n",
       "      <td>False</td>\n",
       "      <td>NaN</td>\n",
       "      <td>1.0</td>\n",
       "      <td>0</td>\n",
       "      <td>B0003</td>\n",
       "      <td>-80.577366</td>\n",
       "      <td>28.561857</td>\n",
       "      <td>0</td>\n",
       "    </tr>\n",
       "    <tr>\n",
       "      <th>1</th>\n",
       "      <td>2</td>\n",
       "      <td>2012-05-22</td>\n",
       "      <td>Falcon 9</td>\n",
       "      <td>525.000000</td>\n",
       "      <td>LEO</td>\n",
       "      <td>CCAFS SLC 40</td>\n",
       "      <td>None None</td>\n",
       "      <td>1</td>\n",
       "      <td>False</td>\n",
       "      <td>False</td>\n",
       "      <td>False</td>\n",
       "      <td>NaN</td>\n",
       "      <td>1.0</td>\n",
       "      <td>0</td>\n",
       "      <td>B0005</td>\n",
       "      <td>-80.577366</td>\n",
       "      <td>28.561857</td>\n",
       "      <td>0</td>\n",
       "    </tr>\n",
       "    <tr>\n",
       "      <th>2</th>\n",
       "      <td>3</td>\n",
       "      <td>2013-03-01</td>\n",
       "      <td>Falcon 9</td>\n",
       "      <td>677.000000</td>\n",
       "      <td>ISS</td>\n",
       "      <td>CCAFS SLC 40</td>\n",
       "      <td>None None</td>\n",
       "      <td>1</td>\n",
       "      <td>False</td>\n",
       "      <td>False</td>\n",
       "      <td>False</td>\n",
       "      <td>NaN</td>\n",
       "      <td>1.0</td>\n",
       "      <td>0</td>\n",
       "      <td>B0007</td>\n",
       "      <td>-80.577366</td>\n",
       "      <td>28.561857</td>\n",
       "      <td>0</td>\n",
       "    </tr>\n",
       "    <tr>\n",
       "      <th>3</th>\n",
       "      <td>4</td>\n",
       "      <td>2013-09-29</td>\n",
       "      <td>Falcon 9</td>\n",
       "      <td>500.000000</td>\n",
       "      <td>PO</td>\n",
       "      <td>VAFB SLC 4E</td>\n",
       "      <td>False Ocean</td>\n",
       "      <td>1</td>\n",
       "      <td>False</td>\n",
       "      <td>False</td>\n",
       "      <td>False</td>\n",
       "      <td>NaN</td>\n",
       "      <td>1.0</td>\n",
       "      <td>0</td>\n",
       "      <td>B1003</td>\n",
       "      <td>-120.610829</td>\n",
       "      <td>34.632093</td>\n",
       "      <td>0</td>\n",
       "    </tr>\n",
       "    <tr>\n",
       "      <th>4</th>\n",
       "      <td>5</td>\n",
       "      <td>2013-12-03</td>\n",
       "      <td>Falcon 9</td>\n",
       "      <td>3170.000000</td>\n",
       "      <td>GTO</td>\n",
       "      <td>CCAFS SLC 40</td>\n",
       "      <td>None None</td>\n",
       "      <td>1</td>\n",
       "      <td>False</td>\n",
       "      <td>False</td>\n",
       "      <td>False</td>\n",
       "      <td>NaN</td>\n",
       "      <td>1.0</td>\n",
       "      <td>0</td>\n",
       "      <td>B1004</td>\n",
       "      <td>-80.577366</td>\n",
       "      <td>28.561857</td>\n",
       "      <td>0</td>\n",
       "    </tr>\n",
       "  </tbody>\n",
       "</table>\n",
       "</div>"
      ],
      "text/plain": [
       "   FlightNumber        Date BoosterVersion  PayloadMass Orbit    LaunchSite  \\\n",
       "0             1  2010-06-04       Falcon 9  6104.959412   LEO  CCAFS SLC 40   \n",
       "1             2  2012-05-22       Falcon 9   525.000000   LEO  CCAFS SLC 40   \n",
       "2             3  2013-03-01       Falcon 9   677.000000   ISS  CCAFS SLC 40   \n",
       "3             4  2013-09-29       Falcon 9   500.000000    PO   VAFB SLC 4E   \n",
       "4             5  2013-12-03       Falcon 9  3170.000000   GTO  CCAFS SLC 40   \n",
       "\n",
       "       Outcome  Flights  GridFins  Reused   Legs LandingPad  Block  \\\n",
       "0    None None        1     False   False  False        NaN    1.0   \n",
       "1    None None        1     False   False  False        NaN    1.0   \n",
       "2    None None        1     False   False  False        NaN    1.0   \n",
       "3  False Ocean        1     False   False  False        NaN    1.0   \n",
       "4    None None        1     False   False  False        NaN    1.0   \n",
       "\n",
       "   ReusedCount Serial   Longitude   Latitude  Class  \n",
       "0            0  B0003  -80.577366  28.561857      0  \n",
       "1            0  B0005  -80.577366  28.561857      0  \n",
       "2            0  B0007  -80.577366  28.561857      0  \n",
       "3            0  B1003 -120.610829  34.632093      0  \n",
       "4            0  B1004  -80.577366  28.561857      0  "
      ]
     },
     "execution_count": 3,
     "metadata": {},
     "output_type": "execute_result"
    }
   ],
   "source": [
    "#data = pd.read_csv(\"https://cf-courses-data.s3.us.cloud-object-storage.appdomain.cloud/IBM-DS0321EN-SkillsNetwork/datasets/dataset_part_2.csv\")\n",
    "\n",
    "# If you were unable to complete the previous lab correctly you can uncomment and load this csv\n",
    "\n",
    "data = pd.read_csv('https://cf-courses-data.s3.us.cloud-object-storage.appdomain.cloud/IBMDeveloperSkillsNetwork-DS0701EN-SkillsNetwork/api/dataset_part_2.csv')\n",
    "\n",
    "data.head()"
   ]
  },
  {
   "cell_type": "code",
   "execution_count": 4,
   "metadata": {},
   "outputs": [
    {
     "data": {
      "text/html": [
       "<div>\n",
       "<style scoped>\n",
       "    .dataframe tbody tr th:only-of-type {\n",
       "        vertical-align: middle;\n",
       "    }\n",
       "\n",
       "    .dataframe tbody tr th {\n",
       "        vertical-align: top;\n",
       "    }\n",
       "\n",
       "    .dataframe thead th {\n",
       "        text-align: right;\n",
       "    }\n",
       "</style>\n",
       "<table border=\"1\" class=\"dataframe\">\n",
       "  <thead>\n",
       "    <tr style=\"text-align: right;\">\n",
       "      <th></th>\n",
       "      <th>FlightNumber</th>\n",
       "      <th>PayloadMass</th>\n",
       "      <th>Flights</th>\n",
       "      <th>Block</th>\n",
       "      <th>ReusedCount</th>\n",
       "      <th>Orbit_ES-L1</th>\n",
       "      <th>Orbit_GEO</th>\n",
       "      <th>Orbit_GTO</th>\n",
       "      <th>Orbit_HEO</th>\n",
       "      <th>Orbit_ISS</th>\n",
       "      <th>...</th>\n",
       "      <th>Serial_B1058</th>\n",
       "      <th>Serial_B1059</th>\n",
       "      <th>Serial_B1060</th>\n",
       "      <th>Serial_B1062</th>\n",
       "      <th>GridFins_False</th>\n",
       "      <th>GridFins_True</th>\n",
       "      <th>Reused_False</th>\n",
       "      <th>Reused_True</th>\n",
       "      <th>Legs_False</th>\n",
       "      <th>Legs_True</th>\n",
       "    </tr>\n",
       "  </thead>\n",
       "  <tbody>\n",
       "    <tr>\n",
       "      <th>0</th>\n",
       "      <td>1.0</td>\n",
       "      <td>6104.959412</td>\n",
       "      <td>1.0</td>\n",
       "      <td>1.0</td>\n",
       "      <td>0.0</td>\n",
       "      <td>0.0</td>\n",
       "      <td>0.0</td>\n",
       "      <td>0.0</td>\n",
       "      <td>0.0</td>\n",
       "      <td>0.0</td>\n",
       "      <td>...</td>\n",
       "      <td>0.0</td>\n",
       "      <td>0.0</td>\n",
       "      <td>0.0</td>\n",
       "      <td>0.0</td>\n",
       "      <td>1.0</td>\n",
       "      <td>0.0</td>\n",
       "      <td>1.0</td>\n",
       "      <td>0.0</td>\n",
       "      <td>1.0</td>\n",
       "      <td>0.0</td>\n",
       "    </tr>\n",
       "    <tr>\n",
       "      <th>1</th>\n",
       "      <td>2.0</td>\n",
       "      <td>525.000000</td>\n",
       "      <td>1.0</td>\n",
       "      <td>1.0</td>\n",
       "      <td>0.0</td>\n",
       "      <td>0.0</td>\n",
       "      <td>0.0</td>\n",
       "      <td>0.0</td>\n",
       "      <td>0.0</td>\n",
       "      <td>0.0</td>\n",
       "      <td>...</td>\n",
       "      <td>0.0</td>\n",
       "      <td>0.0</td>\n",
       "      <td>0.0</td>\n",
       "      <td>0.0</td>\n",
       "      <td>1.0</td>\n",
       "      <td>0.0</td>\n",
       "      <td>1.0</td>\n",
       "      <td>0.0</td>\n",
       "      <td>1.0</td>\n",
       "      <td>0.0</td>\n",
       "    </tr>\n",
       "    <tr>\n",
       "      <th>2</th>\n",
       "      <td>3.0</td>\n",
       "      <td>677.000000</td>\n",
       "      <td>1.0</td>\n",
       "      <td>1.0</td>\n",
       "      <td>0.0</td>\n",
       "      <td>0.0</td>\n",
       "      <td>0.0</td>\n",
       "      <td>0.0</td>\n",
       "      <td>0.0</td>\n",
       "      <td>1.0</td>\n",
       "      <td>...</td>\n",
       "      <td>0.0</td>\n",
       "      <td>0.0</td>\n",
       "      <td>0.0</td>\n",
       "      <td>0.0</td>\n",
       "      <td>1.0</td>\n",
       "      <td>0.0</td>\n",
       "      <td>1.0</td>\n",
       "      <td>0.0</td>\n",
       "      <td>1.0</td>\n",
       "      <td>0.0</td>\n",
       "    </tr>\n",
       "    <tr>\n",
       "      <th>3</th>\n",
       "      <td>4.0</td>\n",
       "      <td>500.000000</td>\n",
       "      <td>1.0</td>\n",
       "      <td>1.0</td>\n",
       "      <td>0.0</td>\n",
       "      <td>0.0</td>\n",
       "      <td>0.0</td>\n",
       "      <td>0.0</td>\n",
       "      <td>0.0</td>\n",
       "      <td>0.0</td>\n",
       "      <td>...</td>\n",
       "      <td>0.0</td>\n",
       "      <td>0.0</td>\n",
       "      <td>0.0</td>\n",
       "      <td>0.0</td>\n",
       "      <td>1.0</td>\n",
       "      <td>0.0</td>\n",
       "      <td>1.0</td>\n",
       "      <td>0.0</td>\n",
       "      <td>1.0</td>\n",
       "      <td>0.0</td>\n",
       "    </tr>\n",
       "    <tr>\n",
       "      <th>4</th>\n",
       "      <td>5.0</td>\n",
       "      <td>3170.000000</td>\n",
       "      <td>1.0</td>\n",
       "      <td>1.0</td>\n",
       "      <td>0.0</td>\n",
       "      <td>0.0</td>\n",
       "      <td>0.0</td>\n",
       "      <td>1.0</td>\n",
       "      <td>0.0</td>\n",
       "      <td>0.0</td>\n",
       "      <td>...</td>\n",
       "      <td>0.0</td>\n",
       "      <td>0.0</td>\n",
       "      <td>0.0</td>\n",
       "      <td>0.0</td>\n",
       "      <td>1.0</td>\n",
       "      <td>0.0</td>\n",
       "      <td>1.0</td>\n",
       "      <td>0.0</td>\n",
       "      <td>1.0</td>\n",
       "      <td>0.0</td>\n",
       "    </tr>\n",
       "    <tr>\n",
       "      <th>...</th>\n",
       "      <td>...</td>\n",
       "      <td>...</td>\n",
       "      <td>...</td>\n",
       "      <td>...</td>\n",
       "      <td>...</td>\n",
       "      <td>...</td>\n",
       "      <td>...</td>\n",
       "      <td>...</td>\n",
       "      <td>...</td>\n",
       "      <td>...</td>\n",
       "      <td>...</td>\n",
       "      <td>...</td>\n",
       "      <td>...</td>\n",
       "      <td>...</td>\n",
       "      <td>...</td>\n",
       "      <td>...</td>\n",
       "      <td>...</td>\n",
       "      <td>...</td>\n",
       "      <td>...</td>\n",
       "      <td>...</td>\n",
       "      <td>...</td>\n",
       "    </tr>\n",
       "    <tr>\n",
       "      <th>85</th>\n",
       "      <td>86.0</td>\n",
       "      <td>15400.000000</td>\n",
       "      <td>2.0</td>\n",
       "      <td>5.0</td>\n",
       "      <td>2.0</td>\n",
       "      <td>0.0</td>\n",
       "      <td>0.0</td>\n",
       "      <td>0.0</td>\n",
       "      <td>0.0</td>\n",
       "      <td>0.0</td>\n",
       "      <td>...</td>\n",
       "      <td>0.0</td>\n",
       "      <td>0.0</td>\n",
       "      <td>1.0</td>\n",
       "      <td>0.0</td>\n",
       "      <td>0.0</td>\n",
       "      <td>1.0</td>\n",
       "      <td>0.0</td>\n",
       "      <td>1.0</td>\n",
       "      <td>0.0</td>\n",
       "      <td>1.0</td>\n",
       "    </tr>\n",
       "    <tr>\n",
       "      <th>86</th>\n",
       "      <td>87.0</td>\n",
       "      <td>15400.000000</td>\n",
       "      <td>3.0</td>\n",
       "      <td>5.0</td>\n",
       "      <td>2.0</td>\n",
       "      <td>0.0</td>\n",
       "      <td>0.0</td>\n",
       "      <td>0.0</td>\n",
       "      <td>0.0</td>\n",
       "      <td>0.0</td>\n",
       "      <td>...</td>\n",
       "      <td>1.0</td>\n",
       "      <td>0.0</td>\n",
       "      <td>0.0</td>\n",
       "      <td>0.0</td>\n",
       "      <td>0.0</td>\n",
       "      <td>1.0</td>\n",
       "      <td>0.0</td>\n",
       "      <td>1.0</td>\n",
       "      <td>0.0</td>\n",
       "      <td>1.0</td>\n",
       "    </tr>\n",
       "    <tr>\n",
       "      <th>87</th>\n",
       "      <td>88.0</td>\n",
       "      <td>15400.000000</td>\n",
       "      <td>6.0</td>\n",
       "      <td>5.0</td>\n",
       "      <td>5.0</td>\n",
       "      <td>0.0</td>\n",
       "      <td>0.0</td>\n",
       "      <td>0.0</td>\n",
       "      <td>0.0</td>\n",
       "      <td>0.0</td>\n",
       "      <td>...</td>\n",
       "      <td>0.0</td>\n",
       "      <td>0.0</td>\n",
       "      <td>0.0</td>\n",
       "      <td>0.0</td>\n",
       "      <td>0.0</td>\n",
       "      <td>1.0</td>\n",
       "      <td>0.0</td>\n",
       "      <td>1.0</td>\n",
       "      <td>0.0</td>\n",
       "      <td>1.0</td>\n",
       "    </tr>\n",
       "    <tr>\n",
       "      <th>88</th>\n",
       "      <td>89.0</td>\n",
       "      <td>15400.000000</td>\n",
       "      <td>3.0</td>\n",
       "      <td>5.0</td>\n",
       "      <td>2.0</td>\n",
       "      <td>0.0</td>\n",
       "      <td>0.0</td>\n",
       "      <td>0.0</td>\n",
       "      <td>0.0</td>\n",
       "      <td>0.0</td>\n",
       "      <td>...</td>\n",
       "      <td>0.0</td>\n",
       "      <td>0.0</td>\n",
       "      <td>1.0</td>\n",
       "      <td>0.0</td>\n",
       "      <td>0.0</td>\n",
       "      <td>1.0</td>\n",
       "      <td>0.0</td>\n",
       "      <td>1.0</td>\n",
       "      <td>0.0</td>\n",
       "      <td>1.0</td>\n",
       "    </tr>\n",
       "    <tr>\n",
       "      <th>89</th>\n",
       "      <td>90.0</td>\n",
       "      <td>3681.000000</td>\n",
       "      <td>1.0</td>\n",
       "      <td>5.0</td>\n",
       "      <td>0.0</td>\n",
       "      <td>0.0</td>\n",
       "      <td>0.0</td>\n",
       "      <td>0.0</td>\n",
       "      <td>0.0</td>\n",
       "      <td>0.0</td>\n",
       "      <td>...</td>\n",
       "      <td>0.0</td>\n",
       "      <td>0.0</td>\n",
       "      <td>0.0</td>\n",
       "      <td>1.0</td>\n",
       "      <td>0.0</td>\n",
       "      <td>1.0</td>\n",
       "      <td>1.0</td>\n",
       "      <td>0.0</td>\n",
       "      <td>0.0</td>\n",
       "      <td>1.0</td>\n",
       "    </tr>\n",
       "  </tbody>\n",
       "</table>\n",
       "<p>90 rows × 83 columns</p>\n",
       "</div>"
      ],
      "text/plain": [
       "    FlightNumber   PayloadMass  Flights  Block  ReusedCount  Orbit_ES-L1  \\\n",
       "0            1.0   6104.959412      1.0    1.0          0.0          0.0   \n",
       "1            2.0    525.000000      1.0    1.0          0.0          0.0   \n",
       "2            3.0    677.000000      1.0    1.0          0.0          0.0   \n",
       "3            4.0    500.000000      1.0    1.0          0.0          0.0   \n",
       "4            5.0   3170.000000      1.0    1.0          0.0          0.0   \n",
       "..           ...           ...      ...    ...          ...          ...   \n",
       "85          86.0  15400.000000      2.0    5.0          2.0          0.0   \n",
       "86          87.0  15400.000000      3.0    5.0          2.0          0.0   \n",
       "87          88.0  15400.000000      6.0    5.0          5.0          0.0   \n",
       "88          89.0  15400.000000      3.0    5.0          2.0          0.0   \n",
       "89          90.0   3681.000000      1.0    5.0          0.0          0.0   \n",
       "\n",
       "    Orbit_GEO  Orbit_GTO  Orbit_HEO  Orbit_ISS  ...  Serial_B1058  \\\n",
       "0         0.0        0.0        0.0        0.0  ...           0.0   \n",
       "1         0.0        0.0        0.0        0.0  ...           0.0   \n",
       "2         0.0        0.0        0.0        1.0  ...           0.0   \n",
       "3         0.0        0.0        0.0        0.0  ...           0.0   \n",
       "4         0.0        1.0        0.0        0.0  ...           0.0   \n",
       "..        ...        ...        ...        ...  ...           ...   \n",
       "85        0.0        0.0        0.0        0.0  ...           0.0   \n",
       "86        0.0        0.0        0.0        0.0  ...           1.0   \n",
       "87        0.0        0.0        0.0        0.0  ...           0.0   \n",
       "88        0.0        0.0        0.0        0.0  ...           0.0   \n",
       "89        0.0        0.0        0.0        0.0  ...           0.0   \n",
       "\n",
       "    Serial_B1059  Serial_B1060  Serial_B1062  GridFins_False  GridFins_True  \\\n",
       "0            0.0           0.0           0.0             1.0            0.0   \n",
       "1            0.0           0.0           0.0             1.0            0.0   \n",
       "2            0.0           0.0           0.0             1.0            0.0   \n",
       "3            0.0           0.0           0.0             1.0            0.0   \n",
       "4            0.0           0.0           0.0             1.0            0.0   \n",
       "..           ...           ...           ...             ...            ...   \n",
       "85           0.0           1.0           0.0             0.0            1.0   \n",
       "86           0.0           0.0           0.0             0.0            1.0   \n",
       "87           0.0           0.0           0.0             0.0            1.0   \n",
       "88           0.0           1.0           0.0             0.0            1.0   \n",
       "89           0.0           0.0           1.0             0.0            1.0   \n",
       "\n",
       "    Reused_False  Reused_True  Legs_False  Legs_True  \n",
       "0            1.0          0.0         1.0        0.0  \n",
       "1            1.0          0.0         1.0        0.0  \n",
       "2            1.0          0.0         1.0        0.0  \n",
       "3            1.0          0.0         1.0        0.0  \n",
       "4            1.0          0.0         1.0        0.0  \n",
       "..           ...          ...         ...        ...  \n",
       "85           0.0          1.0         0.0        1.0  \n",
       "86           0.0          1.0         0.0        1.0  \n",
       "87           0.0          1.0         0.0        1.0  \n",
       "88           0.0          1.0         0.0        1.0  \n",
       "89           1.0          0.0         0.0        1.0  \n",
       "\n",
       "[90 rows x 83 columns]"
      ]
     },
     "execution_count": 4,
     "metadata": {},
     "output_type": "execute_result"
    }
   ],
   "source": [
    "X = pd.read_csv('https://cf-courses-data.s3.us.cloud-object-storage.appdomain.cloud/IBM-DS0321EN-SkillsNetwork/datasets/dataset_part_3.csv')\n",
    "\n",
    "# If you were unable to complete the previous lab correctly you can uncomment and load this csv\n",
    "\n",
    "# X = pd.read_csv('https://cf-courses-data.s3.us.cloud-object-storage.appdomain.cloud/IBMDeveloperSkillsNetwork-DS0701EN-SkillsNetwork/api/dataset_part_3.csv')\n",
    "\n",
    "X.head(100)"
   ]
  },
  {
   "cell_type": "markdown",
   "metadata": {},
   "source": [
    "## TASK  1\n"
   ]
  },
  {
   "cell_type": "markdown",
   "metadata": {},
   "source": [
    "Create a NumPy array from the column <code>Class</code> in <code>data</code>, by applying the method <code>to_numpy()</code>  then\n",
    "assign it  to the variable <code>Y</code>,make sure the output is a  Pandas series (only one bracket df\\['name of  column']).\n"
   ]
  },
  {
   "cell_type": "code",
   "execution_count": 5,
   "metadata": {},
   "outputs": [
    {
     "data": {
      "text/plain": [
       "array([0, 0, 0, 0, 0, 0, 1, 1, 0, 0], dtype=int64)"
      ]
     },
     "execution_count": 5,
     "metadata": {},
     "output_type": "execute_result"
    }
   ],
   "source": [
    "Y = data['Class'].to_numpy()\n",
    "Y[:10]"
   ]
  },
  {
   "cell_type": "markdown",
   "metadata": {},
   "source": [
    "## TASK  2\n"
   ]
  },
  {
   "cell_type": "markdown",
   "metadata": {},
   "source": [
    "Standardize the data in <code>X</code> then reassign it to the variable  <code>X</code> using the transform provided below.\n"
   ]
  },
  {
   "cell_type": "code",
   "execution_count": 6,
   "metadata": {},
   "outputs": [],
   "source": [
    "# students get this \n",
    "transform = preprocessing.StandardScaler()"
   ]
  },
  {
   "cell_type": "code",
   "execution_count": 7,
   "metadata": {},
   "outputs": [
    {
     "data": {
      "text/plain": [
       "array([[-1.71291154e+00, -1.94814463e-16, -6.53912840e-01,\n",
       "        -1.57589457e+00, -9.73440458e-01, -1.05999788e-01,\n",
       "        -1.05999788e-01, -6.54653671e-01, -1.05999788e-01,\n",
       "        -5.51677284e-01,  3.44342023e+00, -1.85695338e-01,\n",
       "        -3.33333333e-01, -1.05999788e-01, -2.42535625e-01,\n",
       "        -4.29197538e-01,  7.97724035e-01, -5.68796459e-01,\n",
       "        -4.10890702e-01, -4.10890702e-01, -1.50755672e-01,\n",
       "        -7.97724035e-01, -1.50755672e-01, -3.92232270e-01,\n",
       "         9.43398113e+00, -1.05999788e-01, -1.05999788e-01,\n",
       "        -1.05999788e-01, -1.05999788e-01, -1.05999788e-01,\n",
       "        -1.05999788e-01, -1.05999788e-01, -1.05999788e-01,\n",
       "        -1.05999788e-01, -1.05999788e-01, -1.05999788e-01,\n",
       "        -1.05999788e-01, -1.05999788e-01, -1.05999788e-01,\n",
       "        -1.05999788e-01, -1.05999788e-01, -1.05999788e-01,\n",
       "        -1.05999788e-01, -1.50755672e-01, -1.05999788e-01,\n",
       "        -1.05999788e-01, -1.05999788e-01, -1.05999788e-01,\n",
       "        -1.05999788e-01, -1.50755672e-01, -1.05999788e-01,\n",
       "        -1.50755672e-01, -1.50755672e-01, -1.05999788e-01,\n",
       "        -1.50755672e-01, -1.50755672e-01, -1.05999788e-01,\n",
       "        -1.05999788e-01, -1.50755672e-01, -1.50755672e-01,\n",
       "        -1.50755672e-01, -1.05999788e-01, -1.05999788e-01,\n",
       "        -1.05999788e-01, -1.50755672e-01, -2.15665546e-01,\n",
       "        -1.85695338e-01, -2.15665546e-01, -2.67261242e-01,\n",
       "        -1.05999788e-01, -2.42535625e-01, -1.05999788e-01,\n",
       "        -2.15665546e-01, -1.85695338e-01, -2.15665546e-01,\n",
       "        -1.85695338e-01, -1.05999788e-01,  1.87082869e+00,\n",
       "        -1.87082869e+00,  8.35531692e-01, -8.35531692e-01,\n",
       "         1.93309133e+00, -1.93309133e+00],\n",
       "       [-1.67441914e+00, -1.19523159e+00, -6.53912840e-01,\n",
       "        -1.57589457e+00, -9.73440458e-01, -1.05999788e-01,\n",
       "        -1.05999788e-01, -6.54653671e-01, -1.05999788e-01,\n",
       "        -5.51677284e-01,  3.44342023e+00, -1.85695338e-01,\n",
       "        -3.33333333e-01, -1.05999788e-01, -2.42535625e-01,\n",
       "        -4.29197538e-01,  7.97724035e-01, -5.68796459e-01,\n",
       "        -4.10890702e-01, -4.10890702e-01, -1.50755672e-01,\n",
       "        -7.97724035e-01, -1.50755672e-01, -3.92232270e-01,\n",
       "        -1.05999788e-01,  9.43398113e+00, -1.05999788e-01,\n",
       "        -1.05999788e-01, -1.05999788e-01, -1.05999788e-01,\n",
       "        -1.05999788e-01, -1.05999788e-01, -1.05999788e-01,\n",
       "        -1.05999788e-01, -1.05999788e-01, -1.05999788e-01,\n",
       "        -1.05999788e-01, -1.05999788e-01, -1.05999788e-01,\n",
       "        -1.05999788e-01, -1.05999788e-01, -1.05999788e-01,\n",
       "        -1.05999788e-01, -1.50755672e-01, -1.05999788e-01,\n",
       "        -1.05999788e-01, -1.05999788e-01, -1.05999788e-01,\n",
       "        -1.05999788e-01, -1.50755672e-01, -1.05999788e-01,\n",
       "        -1.50755672e-01, -1.50755672e-01, -1.05999788e-01,\n",
       "        -1.50755672e-01, -1.50755672e-01, -1.05999788e-01,\n",
       "        -1.05999788e-01, -1.50755672e-01, -1.50755672e-01,\n",
       "        -1.50755672e-01, -1.05999788e-01, -1.05999788e-01,\n",
       "        -1.05999788e-01, -1.50755672e-01, -2.15665546e-01,\n",
       "        -1.85695338e-01, -2.15665546e-01, -2.67261242e-01,\n",
       "        -1.05999788e-01, -2.42535625e-01, -1.05999788e-01,\n",
       "        -2.15665546e-01, -1.85695338e-01, -2.15665546e-01,\n",
       "        -1.85695338e-01, -1.05999788e-01,  1.87082869e+00,\n",
       "        -1.87082869e+00,  8.35531692e-01, -8.35531692e-01,\n",
       "         1.93309133e+00, -1.93309133e+00],\n",
       "       [-1.63592675e+00, -1.16267307e+00, -6.53912840e-01,\n",
       "        -1.57589457e+00, -9.73440458e-01, -1.05999788e-01,\n",
       "        -1.05999788e-01, -6.54653671e-01, -1.05999788e-01,\n",
       "         1.81265393e+00, -2.90408935e-01, -1.85695338e-01,\n",
       "        -3.33333333e-01, -1.05999788e-01, -2.42535625e-01,\n",
       "        -4.29197538e-01,  7.97724035e-01, -5.68796459e-01,\n",
       "        -4.10890702e-01, -4.10890702e-01, -1.50755672e-01,\n",
       "        -7.97724035e-01, -1.50755672e-01, -3.92232270e-01,\n",
       "        -1.05999788e-01, -1.05999788e-01,  9.43398113e+00,\n",
       "        -1.05999788e-01, -1.05999788e-01, -1.05999788e-01,\n",
       "        -1.05999788e-01, -1.05999788e-01, -1.05999788e-01,\n",
       "        -1.05999788e-01, -1.05999788e-01, -1.05999788e-01,\n",
       "        -1.05999788e-01, -1.05999788e-01, -1.05999788e-01,\n",
       "        -1.05999788e-01, -1.05999788e-01, -1.05999788e-01,\n",
       "        -1.05999788e-01, -1.50755672e-01, -1.05999788e-01,\n",
       "        -1.05999788e-01, -1.05999788e-01, -1.05999788e-01,\n",
       "        -1.05999788e-01, -1.50755672e-01, -1.05999788e-01,\n",
       "        -1.50755672e-01, -1.50755672e-01, -1.05999788e-01,\n",
       "        -1.50755672e-01, -1.50755672e-01, -1.05999788e-01,\n",
       "        -1.05999788e-01, -1.50755672e-01, -1.50755672e-01,\n",
       "        -1.50755672e-01, -1.05999788e-01, -1.05999788e-01,\n",
       "        -1.05999788e-01, -1.50755672e-01, -2.15665546e-01,\n",
       "        -1.85695338e-01, -2.15665546e-01, -2.67261242e-01,\n",
       "        -1.05999788e-01, -2.42535625e-01, -1.05999788e-01,\n",
       "        -2.15665546e-01, -1.85695338e-01, -2.15665546e-01,\n",
       "        -1.85695338e-01, -1.05999788e-01,  1.87082869e+00,\n",
       "        -1.87082869e+00,  8.35531692e-01, -8.35531692e-01,\n",
       "         1.93309133e+00, -1.93309133e+00],\n",
       "       [-1.59743435e+00, -1.20058661e+00, -6.53912840e-01,\n",
       "        -1.57589457e+00, -9.73440458e-01, -1.05999788e-01,\n",
       "        -1.05999788e-01, -6.54653671e-01, -1.05999788e-01,\n",
       "        -5.51677284e-01, -2.90408935e-01, -1.85695338e-01,\n",
       "         3.00000000e+00, -1.05999788e-01, -2.42535625e-01,\n",
       "        -4.29197538e-01, -1.25356634e+00, -5.68796459e-01,\n",
       "         2.43373723e+00, -4.10890702e-01, -1.50755672e-01,\n",
       "        -7.97724035e-01, -1.50755672e-01, -3.92232270e-01,\n",
       "        -1.05999788e-01, -1.05999788e-01, -1.05999788e-01,\n",
       "         9.43398113e+00, -1.05999788e-01, -1.05999788e-01,\n",
       "        -1.05999788e-01, -1.05999788e-01, -1.05999788e-01,\n",
       "        -1.05999788e-01, -1.05999788e-01, -1.05999788e-01,\n",
       "        -1.05999788e-01, -1.05999788e-01, -1.05999788e-01,\n",
       "        -1.05999788e-01, -1.05999788e-01, -1.05999788e-01,\n",
       "        -1.05999788e-01, -1.50755672e-01, -1.05999788e-01,\n",
       "        -1.05999788e-01, -1.05999788e-01, -1.05999788e-01,\n",
       "        -1.05999788e-01, -1.50755672e-01, -1.05999788e-01,\n",
       "        -1.50755672e-01, -1.50755672e-01, -1.05999788e-01,\n",
       "        -1.50755672e-01, -1.50755672e-01, -1.05999788e-01,\n",
       "        -1.05999788e-01, -1.50755672e-01, -1.50755672e-01,\n",
       "        -1.50755672e-01, -1.05999788e-01, -1.05999788e-01,\n",
       "        -1.05999788e-01, -1.50755672e-01, -2.15665546e-01,\n",
       "        -1.85695338e-01, -2.15665546e-01, -2.67261242e-01,\n",
       "        -1.05999788e-01, -2.42535625e-01, -1.05999788e-01,\n",
       "        -2.15665546e-01, -1.85695338e-01, -2.15665546e-01,\n",
       "        -1.85695338e-01, -1.05999788e-01,  1.87082869e+00,\n",
       "        -1.87082869e+00,  8.35531692e-01, -8.35531692e-01,\n",
       "         1.93309133e+00, -1.93309133e+00],\n",
       "       [-1.55894196e+00, -6.28670558e-01, -6.53912840e-01,\n",
       "        -1.57589457e+00, -9.73440458e-01, -1.05999788e-01,\n",
       "        -1.05999788e-01,  1.52752523e+00, -1.05999788e-01,\n",
       "        -5.51677284e-01, -2.90408935e-01, -1.85695338e-01,\n",
       "        -3.33333333e-01, -1.05999788e-01, -2.42535625e-01,\n",
       "        -4.29197538e-01,  7.97724035e-01, -5.68796459e-01,\n",
       "        -4.10890702e-01, -4.10890702e-01, -1.50755672e-01,\n",
       "        -7.97724035e-01, -1.50755672e-01, -3.92232270e-01,\n",
       "        -1.05999788e-01, -1.05999788e-01, -1.05999788e-01,\n",
       "        -1.05999788e-01,  9.43398113e+00, -1.05999788e-01,\n",
       "        -1.05999788e-01, -1.05999788e-01, -1.05999788e-01,\n",
       "        -1.05999788e-01, -1.05999788e-01, -1.05999788e-01,\n",
       "        -1.05999788e-01, -1.05999788e-01, -1.05999788e-01,\n",
       "        -1.05999788e-01, -1.05999788e-01, -1.05999788e-01,\n",
       "        -1.05999788e-01, -1.50755672e-01, -1.05999788e-01,\n",
       "        -1.05999788e-01, -1.05999788e-01, -1.05999788e-01,\n",
       "        -1.05999788e-01, -1.50755672e-01, -1.05999788e-01,\n",
       "        -1.50755672e-01, -1.50755672e-01, -1.05999788e-01,\n",
       "        -1.50755672e-01, -1.50755672e-01, -1.05999788e-01,\n",
       "        -1.05999788e-01, -1.50755672e-01, -1.50755672e-01,\n",
       "        -1.50755672e-01, -1.05999788e-01, -1.05999788e-01,\n",
       "        -1.05999788e-01, -1.50755672e-01, -2.15665546e-01,\n",
       "        -1.85695338e-01, -2.15665546e-01, -2.67261242e-01,\n",
       "        -1.05999788e-01, -2.42535625e-01, -1.05999788e-01,\n",
       "        -2.15665546e-01, -1.85695338e-01, -2.15665546e-01,\n",
       "        -1.85695338e-01, -1.05999788e-01,  1.87082869e+00,\n",
       "        -1.87082869e+00,  8.35531692e-01, -8.35531692e-01,\n",
       "         1.93309133e+00, -1.93309133e+00],\n",
       "       [-1.52044957e+00, -5.95469439e-01, -6.53912840e-01,\n",
       "        -1.57589457e+00, -9.73440458e-01, -1.05999788e-01,\n",
       "        -1.05999788e-01,  1.52752523e+00, -1.05999788e-01,\n",
       "        -5.51677284e-01, -2.90408935e-01, -1.85695338e-01,\n",
       "        -3.33333333e-01, -1.05999788e-01, -2.42535625e-01,\n",
       "        -4.29197538e-01,  7.97724035e-01, -5.68796459e-01,\n",
       "        -4.10890702e-01, -4.10890702e-01, -1.50755672e-01,\n",
       "        -7.97724035e-01, -1.50755672e-01, -3.92232270e-01,\n",
       "        -1.05999788e-01, -1.05999788e-01, -1.05999788e-01,\n",
       "        -1.05999788e-01, -1.05999788e-01,  9.43398113e+00,\n",
       "        -1.05999788e-01, -1.05999788e-01, -1.05999788e-01,\n",
       "        -1.05999788e-01, -1.05999788e-01, -1.05999788e-01,\n",
       "        -1.05999788e-01, -1.05999788e-01, -1.05999788e-01,\n",
       "        -1.05999788e-01, -1.05999788e-01, -1.05999788e-01,\n",
       "        -1.05999788e-01, -1.50755672e-01, -1.05999788e-01,\n",
       "        -1.05999788e-01, -1.05999788e-01, -1.05999788e-01,\n",
       "        -1.05999788e-01, -1.50755672e-01, -1.05999788e-01,\n",
       "        -1.50755672e-01, -1.50755672e-01, -1.05999788e-01,\n",
       "        -1.50755672e-01, -1.50755672e-01, -1.05999788e-01,\n",
       "        -1.05999788e-01, -1.50755672e-01, -1.50755672e-01,\n",
       "        -1.50755672e-01, -1.05999788e-01, -1.05999788e-01,\n",
       "        -1.05999788e-01, -1.50755672e-01, -2.15665546e-01,\n",
       "        -1.85695338e-01, -2.15665546e-01, -2.67261242e-01,\n",
       "        -1.05999788e-01, -2.42535625e-01, -1.05999788e-01,\n",
       "        -2.15665546e-01, -1.85695338e-01, -2.15665546e-01,\n",
       "        -1.85695338e-01, -1.05999788e-01,  1.87082869e+00,\n",
       "        -1.87082869e+00,  8.35531692e-01, -8.35531692e-01,\n",
       "         1.93309133e+00, -1.93309133e+00],\n",
       "       [-1.48195717e+00, -8.15882029e-01, -6.53912840e-01,\n",
       "        -1.57589457e+00, -9.73440458e-01, -1.05999788e-01,\n",
       "        -1.05999788e-01, -6.54653671e-01, -1.05999788e-01,\n",
       "         1.81265393e+00, -2.90408935e-01, -1.85695338e-01,\n",
       "        -3.33333333e-01, -1.05999788e-01, -2.42535625e-01,\n",
       "        -4.29197538e-01,  7.97724035e-01, -5.68796459e-01,\n",
       "        -4.10890702e-01, -4.10890702e-01, -1.50755672e-01,\n",
       "        -7.97724035e-01, -1.50755672e-01, -3.92232270e-01,\n",
       "        -1.05999788e-01, -1.05999788e-01, -1.05999788e-01,\n",
       "        -1.05999788e-01, -1.05999788e-01, -1.05999788e-01,\n",
       "         9.43398113e+00, -1.05999788e-01, -1.05999788e-01,\n",
       "        -1.05999788e-01, -1.05999788e-01, -1.05999788e-01,\n",
       "        -1.05999788e-01, -1.05999788e-01, -1.05999788e-01,\n",
       "        -1.05999788e-01, -1.05999788e-01, -1.05999788e-01,\n",
       "        -1.05999788e-01, -1.50755672e-01, -1.05999788e-01,\n",
       "        -1.05999788e-01, -1.05999788e-01, -1.05999788e-01,\n",
       "        -1.05999788e-01, -1.50755672e-01, -1.05999788e-01,\n",
       "        -1.50755672e-01, -1.50755672e-01, -1.05999788e-01,\n",
       "        -1.50755672e-01, -1.50755672e-01, -1.05999788e-01,\n",
       "        -1.05999788e-01, -1.50755672e-01, -1.50755672e-01,\n",
       "        -1.50755672e-01, -1.05999788e-01, -1.05999788e-01,\n",
       "        -1.05999788e-01, -1.50755672e-01, -2.15665546e-01,\n",
       "        -1.85695338e-01, -2.15665546e-01, -2.67261242e-01,\n",
       "        -1.05999788e-01, -2.42535625e-01, -1.05999788e-01,\n",
       "        -2.15665546e-01, -1.85695338e-01, -2.15665546e-01,\n",
       "        -1.85695338e-01, -1.05999788e-01,  1.87082869e+00,\n",
       "        -1.87082869e+00,  8.35531692e-01, -8.35531692e-01,\n",
       "        -5.17306132e-01,  5.17306132e-01],\n",
       "       [-1.44346478e+00, -1.02579878e+00, -6.53912840e-01,\n",
       "        -1.57589457e+00, -9.73440458e-01, -1.05999788e-01,\n",
       "        -1.05999788e-01, -6.54653671e-01, -1.05999788e-01,\n",
       "        -5.51677284e-01,  3.44342023e+00, -1.85695338e-01,\n",
       "        -3.33333333e-01, -1.05999788e-01, -2.42535625e-01,\n",
       "        -4.29197538e-01,  7.97724035e-01, -5.68796459e-01,\n",
       "        -4.10890702e-01, -4.10890702e-01, -1.50755672e-01,\n",
       "        -7.97724035e-01, -1.50755672e-01, -3.92232270e-01,\n",
       "        -1.05999788e-01, -1.05999788e-01, -1.05999788e-01,\n",
       "        -1.05999788e-01, -1.05999788e-01, -1.05999788e-01,\n",
       "        -1.05999788e-01,  9.43398113e+00, -1.05999788e-01,\n",
       "        -1.05999788e-01, -1.05999788e-01, -1.05999788e-01,\n",
       "        -1.05999788e-01, -1.05999788e-01, -1.05999788e-01,\n",
       "        -1.05999788e-01, -1.05999788e-01, -1.05999788e-01,\n",
       "        -1.05999788e-01, -1.50755672e-01, -1.05999788e-01,\n",
       "        -1.05999788e-01, -1.05999788e-01, -1.05999788e-01,\n",
       "        -1.05999788e-01, -1.50755672e-01, -1.05999788e-01,\n",
       "        -1.50755672e-01, -1.50755672e-01, -1.05999788e-01,\n",
       "        -1.50755672e-01, -1.50755672e-01, -1.05999788e-01,\n",
       "        -1.05999788e-01, -1.50755672e-01, -1.50755672e-01,\n",
       "        -1.50755672e-01, -1.05999788e-01, -1.05999788e-01,\n",
       "        -1.05999788e-01, -1.50755672e-01, -2.15665546e-01,\n",
       "        -1.85695338e-01, -2.15665546e-01, -2.67261242e-01,\n",
       "        -1.05999788e-01, -2.42535625e-01, -1.05999788e-01,\n",
       "        -2.15665546e-01, -1.85695338e-01, -2.15665546e-01,\n",
       "        -1.85695338e-01, -1.05999788e-01,  1.87082869e+00,\n",
       "        -1.87082869e+00,  8.35531692e-01, -8.35531692e-01,\n",
       "        -5.17306132e-01,  5.17306132e-01],\n",
       "       [-1.40497238e+00, -3.36286511e-01, -6.53912840e-01,\n",
       "        -1.57589457e+00, -9.73440458e-01, -1.05999788e-01,\n",
       "        -1.05999788e-01,  1.52752523e+00, -1.05999788e-01,\n",
       "        -5.51677284e-01, -2.90408935e-01, -1.85695338e-01,\n",
       "        -3.33333333e-01, -1.05999788e-01, -2.42535625e-01,\n",
       "        -4.29197538e-01,  7.97724035e-01, -5.68796459e-01,\n",
       "        -4.10890702e-01, -4.10890702e-01, -1.50755672e-01,\n",
       "        -7.97724035e-01, -1.50755672e-01, -3.92232270e-01,\n",
       "        -1.05999788e-01, -1.05999788e-01, -1.05999788e-01,\n",
       "        -1.05999788e-01, -1.05999788e-01, -1.05999788e-01,\n",
       "        -1.05999788e-01, -1.05999788e-01,  9.43398113e+00,\n",
       "        -1.05999788e-01, -1.05999788e-01, -1.05999788e-01,\n",
       "        -1.05999788e-01, -1.05999788e-01, -1.05999788e-01,\n",
       "        -1.05999788e-01, -1.05999788e-01, -1.05999788e-01,\n",
       "        -1.05999788e-01, -1.50755672e-01, -1.05999788e-01,\n",
       "        -1.05999788e-01, -1.05999788e-01, -1.05999788e-01,\n",
       "        -1.05999788e-01, -1.50755672e-01, -1.05999788e-01,\n",
       "        -1.50755672e-01, -1.50755672e-01, -1.05999788e-01,\n",
       "        -1.50755672e-01, -1.50755672e-01, -1.05999788e-01,\n",
       "        -1.05999788e-01, -1.50755672e-01, -1.50755672e-01,\n",
       "        -1.50755672e-01, -1.05999788e-01, -1.05999788e-01,\n",
       "        -1.05999788e-01, -1.50755672e-01, -2.15665546e-01,\n",
       "        -1.85695338e-01, -2.15665546e-01, -2.67261242e-01,\n",
       "        -1.05999788e-01, -2.42535625e-01, -1.05999788e-01,\n",
       "        -2.15665546e-01, -1.85695338e-01, -2.15665546e-01,\n",
       "        -1.85695338e-01, -1.05999788e-01,  1.87082869e+00,\n",
       "        -1.87082869e+00,  8.35531692e-01, -8.35531692e-01,\n",
       "         1.93309133e+00, -1.93309133e+00],\n",
       "       [-1.36647999e+00, -3.59205993e-01, -6.53912840e-01,\n",
       "        -1.57589457e+00, -9.73440458e-01, -1.05999788e-01,\n",
       "        -1.05999788e-01,  1.52752523e+00, -1.05999788e-01,\n",
       "        -5.51677284e-01, -2.90408935e-01, -1.85695338e-01,\n",
       "        -3.33333333e-01, -1.05999788e-01, -2.42535625e-01,\n",
       "        -4.29197538e-01,  7.97724035e-01, -5.68796459e-01,\n",
       "        -4.10890702e-01, -4.10890702e-01, -1.50755672e-01,\n",
       "        -7.97724035e-01, -1.50755672e-01, -3.92232270e-01,\n",
       "        -1.05999788e-01, -1.05999788e-01, -1.05999788e-01,\n",
       "        -1.05999788e-01, -1.05999788e-01, -1.05999788e-01,\n",
       "        -1.05999788e-01, -1.05999788e-01, -1.05999788e-01,\n",
       "        -1.05999788e-01,  9.43398113e+00, -1.05999788e-01,\n",
       "        -1.05999788e-01, -1.05999788e-01, -1.05999788e-01,\n",
       "        -1.05999788e-01, -1.05999788e-01, -1.05999788e-01,\n",
       "        -1.05999788e-01, -1.50755672e-01, -1.05999788e-01,\n",
       "        -1.05999788e-01, -1.05999788e-01, -1.05999788e-01,\n",
       "        -1.05999788e-01, -1.50755672e-01, -1.05999788e-01,\n",
       "        -1.50755672e-01, -1.50755672e-01, -1.05999788e-01,\n",
       "        -1.50755672e-01, -1.50755672e-01, -1.05999788e-01,\n",
       "        -1.05999788e-01, -1.50755672e-01, -1.50755672e-01,\n",
       "        -1.50755672e-01, -1.05999788e-01, -1.05999788e-01,\n",
       "        -1.05999788e-01, -1.50755672e-01, -2.15665546e-01,\n",
       "        -1.85695338e-01, -2.15665546e-01, -2.67261242e-01,\n",
       "        -1.05999788e-01, -2.42535625e-01, -1.05999788e-01,\n",
       "        -2.15665546e-01, -1.85695338e-01, -2.15665546e-01,\n",
       "        -1.85695338e-01, -1.05999788e-01,  1.87082869e+00,\n",
       "        -1.87082869e+00,  8.35531692e-01, -8.35531692e-01,\n",
       "         1.93309133e+00, -1.93309133e+00]])"
      ]
     },
     "execution_count": 7,
     "metadata": {},
     "output_type": "execute_result"
    }
   ],
   "source": [
    "X = transform.fit_transform(X)\n",
    "X[:10]"
   ]
  },
  {
   "cell_type": "markdown",
   "metadata": {},
   "source": [
    "We split the data into training and testing data using the  function  <code>train_test_split</code>.   The training data is divided into validation data, a second set used for training  data; then the models are trained and hyperparameters are selected using the function <code>GridSearchCV</code>.\n"
   ]
  },
  {
   "cell_type": "markdown",
   "metadata": {},
   "source": [
    "## TASK  3\n"
   ]
  },
  {
   "cell_type": "markdown",
   "metadata": {},
   "source": [
    "Use the function train_test_split to split the data X and Y into training and test data. Set the parameter test_size to  0.2 and random_state to 2. The training data and test data should be assigned to the following labels.\n"
   ]
  },
  {
   "cell_type": "markdown",
   "metadata": {},
   "source": [
    "<code>X_train, X_test, Y_train, Y_test</code>\n"
   ]
  },
  {
   "cell_type": "code",
   "execution_count": 8,
   "metadata": {},
   "outputs": [],
   "source": [
    "X_train, X_test, Y_train, Y_test = train_test_split(X, Y, test_size=0.2, random_state=2)"
   ]
  },
  {
   "cell_type": "markdown",
   "metadata": {},
   "source": [
    "we can see we only have 18 test samples.\n"
   ]
  },
  {
   "cell_type": "code",
   "execution_count": 9,
   "metadata": {},
   "outputs": [
    {
     "data": {
      "text/plain": [
       "(18,)"
      ]
     },
     "execution_count": 9,
     "metadata": {},
     "output_type": "execute_result"
    }
   ],
   "source": [
    "Y_test.shape"
   ]
  },
  {
   "cell_type": "markdown",
   "metadata": {},
   "source": [
    "## TASK  4\n"
   ]
  },
  {
   "cell_type": "markdown",
   "metadata": {},
   "source": [
    "Create a logistic regression object  then create a  GridSearchCV object  <code>logreg_cv</code> with cv = 10.  Fit the object to find the best parameters from the dictionary <code>parameters</code>.\n"
   ]
  },
  {
   "cell_type": "code",
   "execution_count": 10,
   "metadata": {},
   "outputs": [],
   "source": [
    "parameters ={'C':[0.01,0.1,1],\n",
    "             'penalty':['l2'],\n",
    "             'solver':['lbfgs']}"
   ]
  },
  {
   "cell_type": "code",
   "execution_count": 11,
   "metadata": {},
   "outputs": [
    {
     "data": {
      "text/plain": [
       "GridSearchCV(cv=10, estimator=LogisticRegression(),\n",
       "             param_grid={'C': [0.01, 0.1, 1], 'penalty': ['l2'],\n",
       "                         'solver': ['lbfgs']})"
      ]
     },
     "execution_count": 11,
     "metadata": {},
     "output_type": "execute_result"
    }
   ],
   "source": [
    "parameters ={\"C\":[0.01,0.1,1],'penalty':['l2'], 'solver':['lbfgs']}# l1 lasso l2 ridge\n",
    "lr=LogisticRegression()\n",
    "logreg_cv = GridSearchCV(lr, parameters, cv=10)\n",
    "logreg_cv.fit(X_train, Y_train)"
   ]
  },
  {
   "cell_type": "markdown",
   "metadata": {},
   "source": [
    "We output the <code>GridSearchCV</code> object for logistic regression. We display the best parameters using the data attribute <code>best_params\\_</code> and the accuracy on the validation data using the data attribute <code>best_score\\_</code>.\n"
   ]
  },
  {
   "cell_type": "code",
   "execution_count": 12,
   "metadata": {},
   "outputs": [
    {
     "name": "stdout",
     "output_type": "stream",
     "text": [
      "tuned hpyerparameters :(best parameters)  {'C': 0.01, 'penalty': 'l2', 'solver': 'lbfgs'}\n",
      "accuracy : 0.8464285714285713\n"
     ]
    }
   ],
   "source": [
    "print(\"tuned hpyerparameters :(best parameters) \",logreg_cv.best_params_)\n",
    "print(\"accuracy :\",logreg_cv.best_score_)"
   ]
  },
  {
   "cell_type": "markdown",
   "metadata": {},
   "source": [
    "## TASK  5\n"
   ]
  },
  {
   "cell_type": "markdown",
   "metadata": {},
   "source": [
    "Calculate the accuracy on the test data using the method <code>score</code>:\n"
   ]
  },
  {
   "cell_type": "code",
   "execution_count": 13,
   "metadata": {},
   "outputs": [
    {
     "name": "stdout",
     "output_type": "stream",
     "text": [
      "Accuracy on test data : 0.8333333333333334\n"
     ]
    }
   ],
   "source": [
    "acc_logreg_test_data = logreg_cv.score(X_test, Y_test)\n",
    "print(\"Accuracy on test data :\", acc_logreg_test_data)"
   ]
  },
  {
   "cell_type": "markdown",
   "metadata": {},
   "source": [
    "Lets look at the confusion matrix:\n"
   ]
  },
  {
   "cell_type": "code",
   "execution_count": 14,
   "metadata": {},
   "outputs": [
    {
     "data": {
      "image/png": "[encoded data removed]",
      "text/plain": [
       "<Figure size 432x288 with 2 Axes>"
      ]
     },
     "metadata": {
      "needs_background": "light"
     },
     "output_type": "display_data"
    }
   ],
   "source": [
    "yhat=logreg_cv.predict(X_test)\n",
    "plot_confusion_matrix(Y_test,yhat)"
   ]
  },
  {
   "cell_type": "markdown",
   "metadata": {},
   "source": [
    "Examining the confusion matrix, we see that logistic regression can distinguish between the different classes.  We see that the major problem is false positives.\n"
   ]
  },
  {
   "cell_type": "markdown",
   "metadata": {},
   "source": [
    "## TASK  6\n"
   ]
  },
  {
   "cell_type": "markdown",
   "metadata": {},
   "source": [
    "Create a support vector machine object then  create a  <code>GridSearchCV</code> object  <code>svm_cv</code> with cv - 10.  Fit the object to find the best parameters from the dictionary <code>parameters</code>.\n"
   ]
  },
  {
   "cell_type": "code",
   "execution_count": 15,
   "metadata": {},
   "outputs": [],
   "source": [
    "parameters = {'kernel':('linear', 'rbf','poly','rbf', 'sigmoid'),\n",
    "              'C': np.logspace(-3, 3, 5),\n",
    "              'gamma':np.logspace(-3, 3, 5)}\n",
    "svm = SVC()"
   ]
  },
  {
   "cell_type": "code",
   "execution_count": 16,
   "metadata": {},
   "outputs": [
    {
     "data": {
      "text/plain": [
       "GridSearchCV(cv=10, estimator=SVC(),\n",
       "             param_grid={'C': array([1.00000000e-03, 3.16227766e-02, 1.00000000e+00, 3.16227766e+01,\n",
       "       1.00000000e+03]),\n",
       "                         'gamma': array([1.00000000e-03, 3.16227766e-02, 1.00000000e+00, 3.16227766e+01,\n",
       "       1.00000000e+03]),\n",
       "                         'kernel': ('linear', 'rbf', 'poly', 'rbf', 'sigmoid')})"
      ]
     },
     "execution_count": 16,
     "metadata": {},
     "output_type": "execute_result"
    }
   ],
   "source": [
    "svm_cv = GridSearchCV(svm, parameters ,cv=10)\n",
    "svm_cv.fit(X_train,Y_train)"
   ]
  },
  {
   "cell_type": "code",
   "execution_count": 17,
   "metadata": {},
   "outputs": [
    {
     "name": "stdout",
     "output_type": "stream",
     "text": [
      "tuned hpyerparameters :(best parameters)  {'C': 1.0, 'gamma': 0.03162277660168379, 'kernel': 'sigmoid'}\n",
      "accuracy : 0.8482142857142856\n"
     ]
    }
   ],
   "source": [
    "print(\"tuned hpyerparameters :(best parameters) \",svm_cv.best_params_)\n",
    "print(\"accuracy :\",svm_cv.best_score_)"
   ]
  },
  {
   "cell_type": "markdown",
   "metadata": {},
   "source": [
    "## TASK  7\n"
   ]
  },
  {
   "cell_type": "markdown",
   "metadata": {},
   "source": [
    "Calculate the accuracy on the test data using the method <code>score</code>:\n"
   ]
  },
  {
   "cell_type": "code",
   "execution_count": 18,
   "metadata": {},
   "outputs": [
    {
     "name": "stdout",
     "output_type": "stream",
     "text": [
      "Accuracy on test data : 0.8333333333333334\n"
     ]
    }
   ],
   "source": [
    "acc_svm_test_data = svm_cv.score(X_test, Y_test)\n",
    "print(\"Accuracy on test data :\", acc_svm_test_data)"
   ]
  },
  {
   "cell_type": "markdown",
   "metadata": {},
   "source": [
    "We can plot the confusion matrix\n"
   ]
  },
  {
   "cell_type": "code",
   "execution_count": 19,
   "metadata": {},
   "outputs": [
    {
     "data": {
      "image/png": "[encoded data removed]",
      "text/plain": [
       "<Figure size 432x288 with 2 Axes>"
      ]
     },
     "metadata": {
      "needs_background": "light"
     },
     "output_type": "display_data"
    }
   ],
   "source": [
    "yhat=svm_cv.predict(X_test)\n",
    "plot_confusion_matrix(Y_test,yhat)"
   ]
  },
  {
   "cell_type": "markdown",
   "metadata": {},
   "source": [
    "## TASK  8\n"
   ]
  },
  {
   "cell_type": "markdown",
   "metadata": {},
   "source": [
    "Create a decision tree classifier object then  create a  <code>GridSearchCV</code> object  <code>tree_cv</code> with cv = 10.  Fit the object to find the best parameters from the dictionary <code>parameters</code>.\n"
   ]
  },
  {
   "cell_type": "code",
   "execution_count": 20,
   "metadata": {},
   "outputs": [],
   "source": [
    "parameters = {'criterion': ['gini', 'entropy'],\n",
    "     'splitter': ['best', 'random'],\n",
    "     'max_depth': [2*n for n in range(1,10)],\n",
    "     'max_features': ['auto', 'sqrt'],\n",
    "     'min_samples_leaf': [1, 2, 4],\n",
    "     'min_samples_split': [2, 5, 10]}\n",
    "\n",
    "tree = DecisionTreeClassifier()"
   ]
  },
  {
   "cell_type": "code",
   "execution_count": 21,
   "metadata": {},
   "outputs": [
    {
     "data": {
      "text/plain": [
       "GridSearchCV(cv=10, estimator=DecisionTreeClassifier(),\n",
       "             param_grid={'criterion': ['gini', 'entropy'],\n",
       "                         'max_depth': [2, 4, 6, 8, 10, 12, 14, 16, 18],\n",
       "                         'max_features': ['auto', 'sqrt'],\n",
       "                         'min_samples_leaf': [1, 2, 4],\n",
       "                         'min_samples_split': [2, 5, 10],\n",
       "                         'splitter': ['best', 'random']})"
      ]
     },
     "execution_count": 21,
     "metadata": {},
     "output_type": "execute_result"
    }
   ],
   "source": [
    "tree_cv = GridSearchCV(tree, parameters, cv=10)\n",
    "tree_cv.fit(X_train, Y_train)"
   ]
  },
  {
   "cell_type": "code",
   "execution_count": 22,
   "metadata": {},
   "outputs": [
    {
     "name": "stdout",
     "output_type": "stream",
     "text": [
      "tuned hpyerparameters :(best parameters)  {'criterion': 'gini', 'max_depth': 4, 'max_features': 'sqrt', 'min_samples_leaf': 2, 'min_samples_split': 2, 'splitter': 'random'}\n",
      "accuracy : 0.8875\n"
     ]
    }
   ],
   "source": [
    "print(\"tuned hpyerparameters :(best parameters) \",tree_cv.best_params_)\n",
    "print(\"accuracy :\",tree_cv.best_score_)"
   ]
  },
  {
   "cell_type": "markdown",
   "metadata": {},
   "source": [
    "## TASK  9\n"
   ]
  },
  {
   "cell_type": "markdown",
   "metadata": {},
   "source": [
    "Calculate the accuracy of tree_cv on the test data using the method <code>score</code>:\n"
   ]
  },
  {
   "cell_type": "code",
   "execution_count": 23,
   "metadata": {},
   "outputs": [
    {
     "name": "stdout",
     "output_type": "stream",
     "text": [
      "Accuracy on test data : 0.8333333333333334\n"
     ]
    }
   ],
   "source": [
    "acc_tree_test_data = tree_cv.score(X_test, Y_test)\n",
    "print(\"Accuracy on test data :\", acc_tree_test_data)"
   ]
  },
  {
   "cell_type": "markdown",
   "metadata": {},
   "source": [
    "We can plot the confusion matrix\n"
   ]
  },
  {
   "cell_type": "code",
   "execution_count": 24,
   "metadata": {},
   "outputs": [
    {
     "data": {
      "image/png": "[encoded data removed]",
      "text/plain": [
       "<Figure size 432x288 with 2 Axes>"
      ]
     },
     "metadata": {
      "needs_background": "light"
     },
     "output_type": "display_data"
    }
   ],
   "source": [
    "yhat = tree_cv.predict(X_test)\n",
    "plot_confusion_matrix(Y_test,yhat)"
   ]
  },
  {
   "cell_type": "markdown",
   "metadata": {},
   "source": [
    "## TASK  10\n"
   ]
  },
  {
   "cell_type": "markdown",
   "metadata": {},
   "source": [
    "Create a k nearest neighbors object then  create a  <code>GridSearchCV</code> object  <code>knn_cv</code> with cv = 10.  Fit the object to find the best parameters from the dictionary <code>parameters</code>.\n"
   ]
  },
  {
   "cell_type": "code",
   "execution_count": 25,
   "metadata": {},
   "outputs": [],
   "source": [
    "parameters = {'n_neighbors': [1, 2, 3, 4, 5, 6, 7, 8, 9, 10],\n",
    "              'algorithm': ['auto', 'ball_tree', 'kd_tree', 'brute'],\n",
    "              'p': [1,2]}\n",
    "\n",
    "KNN = KNeighborsClassifier()"
   ]
  },
  {
   "cell_type": "code",
   "execution_count": 26,
   "metadata": {},
   "outputs": [],
   "source": [
    "knn_cv = GridSearchCV(KNN, parameters, scoring='accuracy', cv=10)\n",
    "knn_cv = knn_cv.fit(X_train, Y_train)\n"
   ]
  },
  {
   "cell_type": "code",
   "execution_count": 27,
   "metadata": {},
   "outputs": [
    {
     "name": "stdout",
     "output_type": "stream",
     "text": [
      "tuned hpyerparameters :(best parameters)  {'algorithm': 'auto', 'n_neighbors': 10, 'p': 1}\n",
      "accuracy : 0.8482142857142858\n"
     ]
    }
   ],
   "source": [
    "print(\"tuned hpyerparameters :(best parameters) \",knn_cv.best_params_)\n",
    "print(\"accuracy :\",knn_cv.best_score_)"
   ]
  },
  {
   "cell_type": "markdown",
   "metadata": {},
   "source": [
    "## TASK  11\n"
   ]
  },
  {
   "cell_type": "markdown",
   "metadata": {},
   "source": [
    "Calculate the accuracy of tree_cv on the test data using the method <code>score</code>:\n"
   ]
  },
  {
   "cell_type": "code",
   "execution_count": 28,
   "metadata": {},
   "outputs": [
    {
     "name": "stdout",
     "output_type": "stream",
     "text": [
      "Accuracy on test data : 0.8333333333333334\n"
     ]
    }
   ],
   "source": [
    "acc_knn_test_data = knn_cv.score(X_test, Y_test)\n",
    "print(\"Accuracy on test data :\", acc_knn_test_data)"
   ]
  },
  {
   "cell_type": "markdown",
   "metadata": {},
   "source": [
    "We can plot the confusion matrix\n"
   ]
  },
  {
   "cell_type": "code",
   "execution_count": 29,
   "metadata": {},
   "outputs": [
    {
     "data": {
      "image/png": "[encoded data removed]",
      "text/plain": [
       "<Figure size 432x288 with 2 Axes>"
      ]
     },
     "metadata": {
      "needs_background": "light"
     },
     "output_type": "display_data"
    }
   ],
   "source": [
    "yhat = knn_cv.predict(X_test)\n",
    "plot_confusion_matrix(Y_test,yhat)"
   ]
  },
  {
   "cell_type": "markdown",
   "metadata": {},
   "source": [
    "## TASK  12\n"
   ]
  },
  {
   "cell_type": "markdown",
   "metadata": {},
   "source": [
    "Find the method performs best:\n"
   ]
  },
  {
   "cell_type": "code",
   "execution_count": 30,
   "metadata": {},
   "outputs": [
    {
     "data": {
      "text/html": [
       "<div>\n",
       "<style scoped>\n",
       "    .dataframe tbody tr th:only-of-type {\n",
       "        vertical-align: middle;\n",
       "    }\n",
       "\n",
       "    .dataframe tbody tr th {\n",
       "        vertical-align: top;\n",
       "    }\n",
       "\n",
       "    .dataframe thead th {\n",
       "        text-align: right;\n",
       "    }\n",
       "</style>\n",
       "<table border=\"1\" class=\"dataframe\">\n",
       "  <thead>\n",
       "    <tr style=\"text-align: right;\">\n",
       "      <th></th>\n",
       "      <th>Accuracy Train</th>\n",
       "      <th>Accuracy Test</th>\n",
       "    </tr>\n",
       "  </thead>\n",
       "  <tbody>\n",
       "    <tr>\n",
       "      <th>Logreg</th>\n",
       "      <td>0.846429</td>\n",
       "      <td>0.833333</td>\n",
       "    </tr>\n",
       "    <tr>\n",
       "      <th>Svm</th>\n",
       "      <td>0.848214</td>\n",
       "      <td>0.833333</td>\n",
       "    </tr>\n",
       "    <tr>\n",
       "      <th>Tree</th>\n",
       "      <td>0.887500</td>\n",
       "      <td>0.833333</td>\n",
       "    </tr>\n",
       "    <tr>\n",
       "      <th>Knn</th>\n",
       "      <td>0.848214</td>\n",
       "      <td>0.833333</td>\n",
       "    </tr>\n",
       "  </tbody>\n",
       "</table>\n",
       "</div>"
      ],
      "text/plain": [
       "        Accuracy Train  Accuracy Test\n",
       "Logreg        0.846429       0.833333\n",
       "Svm           0.848214       0.833333\n",
       "Tree          0.887500       0.833333\n",
       "Knn           0.848214       0.833333"
      ]
     },
     "execution_count": 30,
     "metadata": {},
     "output_type": "execute_result"
    }
   ],
   "source": [
    "methods = ['Logreg','Svm','Tree','Knn']\n",
    "accs_train = [logreg_cv.best_score_, svm_cv.best_score_, tree_cv.best_score_, knn_cv.best_score_]\n",
    "accs_test = [acc_logreg_test_data, acc_svm_test_data, acc_tree_test_data, acc_knn_test_data]\n",
    "\n",
    "dict_meth_accs = {}\n",
    "\n",
    "for i in range(len(methods)):\n",
    "    dict_meth_accs[methods[i]] = [accs_train[i], accs_test[i]]\n",
    "\n",
    "df = pd.DataFrame.from_dict(dict_meth_accs, orient='index')\n",
    "df.rename(columns={0: 'Accuracy Train', 1: 'Accuracy Test'}, inplace = True)\n",
    "\n",
    "df.head()"
   ]
  },
  {
   "cell_type": "code",
   "execution_count": 31,
   "metadata": {},
   "outputs": [
    {
     "data": {
      "image/png": "[encoded data removed]",
      "text/plain": [
       "<Figure size 720x720 with 1 Axes>"
      ]
     },
     "metadata": {
      "needs_background": "light"
     },
     "output_type": "display_data"
    }
   ],
   "source": [
    "plt.figure(figsize=(10,10))\n",
    "ax=sns.barplot(x=df.index, y='Accuracy Train', data=df, palette='Blues_d')\n",
    "sns.despine(top=True, right=True, left=False, bottom=False)\n",
    "plt.xlabel('Model', fontsize=25)\n",
    "plt.ylabel('Train Accuracy', fontsize=25)\n",
    "ax.yaxis.set_major_formatter(plt.FuncFormatter(lambda x, _: '{:.0f}%'.format(x*100)))\n",
    "for p in ax.patches:\n",
    "    ax.annotate('{:.1f}%'.format(p.get_height()*100), (p.get_x()+0.4, p.get_height()), \n",
    "                ha='center', va='bottom',color= 'black')\n",
    "plt.title('Model Accuracy on the Train Set', fontsize=33)\n",
    "plt.show()"
   ]
  },
  {
   "cell_type": "code",
   "execution_count": 32,
   "metadata": {},
   "outputs": [
    {
     "data": {
      "image/png": "[encoded data removed]",
      "text/plain": [
       "<Figure size 720x720 with 1 Axes>"
      ]
     },
     "metadata": {
      "needs_background": "light"
     },
     "output_type": "display_data"
    }
   ],
   "source": [
    "plt.figure(figsize=(10,10))\n",
    "ax=sns.barplot(x=df.index, y='Accuracy Test', data=df, palette='Blues_d')\n",
    "sns.despine(top=True, right=True, left=False, bottom=False)\n",
    "plt.xlabel('Model', fontsize=25)\n",
    "plt.ylabel('Test Accuracy', fontsize=25)\n",
    "ax.yaxis.set_major_formatter(plt.FuncFormatter(lambda x, _: '{:.0f}%'.format(x*100)))\n",
    "for p in ax.patches:\n",
    "    ax.annotate('{:.1f}%'.format(p.get_height()*100), (p.get_x()+0.4, p.get_height()), \n",
    "                ha='center', va='bottom',color= 'black')\n",
    "plt.title('Model Accuracy on the Test Set', fontsize=33)\n",
    "plt.show()"
   ]
  },
  {
   "cell_type": "markdown",
   "metadata": {},
   "source": [
    "## Authors\n"
   ]
  },
  {
   "cell_type": "markdown",
   "metadata": {},
   "source": [
    "<a href=\"https://www.linkedin.com/in/joseph-s-50398b136/?utm_medium=Exinfluencer&utm_source=Exinfluencer&utm_content=000026UJ&utm_term=10006555&utm_id=NA-SkillsNetwork-Channel-SkillsNetworkCoursesIBMDS0321ENSkillsNetwork26802033-2022-01-01\">Joseph Santarcangelo</a> has a PhD in Electrical Engineering, his research focused on using machine learning, signal processing, and computer vision to determine how videos impact human cognition. Joseph has been working for IBM since he completed his PhD.\n"
   ]
  },
  {
   "cell_type": "markdown",
   "metadata": {},
   "source": [
    "## Change Log\n"
   ]
  },
  {
   "cell_type": "markdown",
   "metadata": {},
   "source": [
    "| Date (YYYY-MM-DD) | Version | Changed By    | Change Description      |\n",
    "| ----------------- | ------- | ------------- | ----------------------- |\n",
    "| 2021-08-31        | 1.1     | Lakshmi Holla | Modified markdown       |\n",
    "| 2020-09-20        | 1.0     | Joseph        | Modified Multiple Areas |\n"
   ]
  },
  {
   "cell_type": "markdown",
   "metadata": {},
   "source": [
    "Copyright © 2020 IBM Corporation. All rights reserved.\n"
   ]
  }
 ],
 "metadata": {
  "kernelspec": {
   "display_name": "Python 3 (ipykernel)",
   "language": "python",
   "name": "python3"
  },
  "language_info": {
   "codemirror_mode": {
    "name": "ipython",
    "version": 3
   },
   "file_extension": ".py",
   "mimetype": "text/x-python",
   "name": "python",
   "nbconvert_exporter": "python",
   "pygments_lexer": "ipython3",
   "version": "3.9.6"
  }
 },
 "nbformat": 4,
 "nbformat_minor": 4
}
